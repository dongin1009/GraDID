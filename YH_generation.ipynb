{
 "cells": [
  {
   "cell_type": "code",
   "execution_count": 1,
   "id": "2a3afcb7",
   "metadata": {},
   "outputs": [],
   "source": [
    "import pandas as pd\n",
    "import numpy as np\n",
    "from nltk.tokenize import sent_tokenize\n",
    "from sklearn.model_selection import train_test_split\n",
    "import math\n",
    "from random import shuffle\n",
    "import random"
   ]
  },
  {
   "cell_type": "code",
   "execution_count": 25,
   "id": "057666c7",
   "metadata": {},
   "outputs": [],
   "source": [
    "data = pd.read_csv(\"./data/kor_201901_202106_additional_classcode_cleaned_outlier_removed_data_over10.csv\")"
   ]
  },
  {
   "cell_type": "code",
   "execution_count": 26,
   "id": "5ae3b4ab",
   "metadata": {},
   "outputs": [],
   "source": [
    "data = data.iloc[:,:12] # remove unnecessary columns"
   ]
  },
  {
   "cell_type": "code",
   "execution_count": 27,
   "id": "14105e89",
   "metadata": {},
   "outputs": [
    {
     "data": {
      "text/plain": [
       "(556164, 12)"
      ]
     },
     "execution_count": 27,
     "metadata": {},
     "output_type": "execute_result"
    }
   ],
   "source": [
    "data.shape"
   ]
  },
  {
   "cell_type": "code",
   "execution_count": 28,
   "id": "5c2228cc",
   "metadata": {},
   "outputs": [],
   "source": [
    "import pickle\n",
    "with open(\"../../save_variables/table_contentid.pickle\", \"rb\") as fp:\n",
    "    table_id = pickle.load(fp)"
   ]
  },
  {
   "cell_type": "code",
   "execution_count": 29,
   "id": "d6eb990c",
   "metadata": {},
   "outputs": [],
   "source": [
    "t_index = data[data.id.isin(table_id)].index"
   ]
  },
  {
   "cell_type": "code",
   "execution_count": 30,
   "id": "0f6a05cb",
   "metadata": {},
   "outputs": [
    {
     "data": {
      "text/plain": [
       "Int64Index([ 17532,  17596,  18315,  18512,  18940,  19294,  19399,  19440,\n",
       "             19459,  19475,\n",
       "            ...\n",
       "            554736, 554802, 554845, 555069, 555138, 555177, 555421, 555516,\n",
       "            555733, 556035],\n",
       "           dtype='int64', length=3923)"
      ]
     },
     "execution_count": 30,
     "metadata": {},
     "output_type": "execute_result"
    }
   ],
   "source": [
    "t_index"
   ]
  },
  {
   "cell_type": "code",
   "execution_count": null,
   "id": "4f75698f",
   "metadata": {},
   "outputs": [],
   "source": [
    "for t in t_index:\n",
    "    temp_body = ' '.join(sent_tokenize(data.body[t])[:-1])\n",
    "    data.body[t] = temp_body"
   ]
  },
  {
   "cell_type": "code",
   "execution_count": 32,
   "id": "3d530ba6",
   "metadata": {},
   "outputs": [
    {
     "data": {
      "text/plain": [
       "(556164, 12)"
      ]
     },
     "execution_count": 32,
     "metadata": {},
     "output_type": "execute_result"
    }
   ],
   "source": [
    "data.shape"
   ]
  },
  {
   "cell_type": "code",
   "execution_count": 33,
   "id": "522cc048",
   "metadata": {},
   "outputs": [],
   "source": [
    "short_list = []\n",
    "for i, each_body in enumerate(data.body):\n",
    "    if len(sent_tokenize(each_body))< 3:\n",
    "        short_list.append(i)"
   ]
  },
  {
   "cell_type": "code",
   "execution_count": 34,
   "id": "d341d67a",
   "metadata": {},
   "outputs": [
    {
     "data": {
      "text/plain": [
       "29681"
      ]
     },
     "execution_count": 34,
     "metadata": {},
     "output_type": "execute_result"
    }
   ],
   "source": [
    "len(short_list)"
   ]
  },
  {
   "cell_type": "code",
   "execution_count": 35,
   "id": "ea541982",
   "metadata": {},
   "outputs": [],
   "source": [
    "data = data.drop(index=short_list).reset_index(drop=True)"
   ]
  },
  {
   "cell_type": "code",
   "execution_count": 36,
   "id": "6fe48a6a",
   "metadata": {},
   "outputs": [
    {
     "data": {
      "text/plain": [
       "(526483, 12)"
      ]
     },
     "execution_count": 36,
     "metadata": {},
     "output_type": "execute_result"
    }
   ],
   "source": [
    "data.shape"
   ]
  },
  {
   "cell_type": "code",
   "execution_count": 37,
   "id": "307b02db",
   "metadata": {},
   "outputs": [],
   "source": [
    "consistent_data, inconsistent_data = train_test_split(data, test_size=0.7, random_state=42, stratify=data.category)"
   ]
  },
  {
   "cell_type": "code",
   "execution_count": 38,
   "id": "2a48b74a",
   "metadata": {},
   "outputs": [
    {
     "data": {
      "text/plain": [
       "((157944, 12), (368539, 12))"
      ]
     },
     "execution_count": 38,
     "metadata": {},
     "output_type": "execute_result"
    }
   ],
   "source": [
    "consistent_data.shape, inconsistent_data.shape"
   ]
  },
  {
   "cell_type": "code",
   "execution_count": 39,
   "id": "26bf6aa5",
   "metadata": {},
   "outputs": [],
   "source": []
  },
  {
   "cell_type": "code",
   "execution_count": null,
   "id": "72dc19f6",
   "metadata": {},
   "outputs": [
    {
     "name": "stdout",
     "output_type": "stream",
     "text": [
      "진행 개수 : 1769, 남은 개수 : 365001\n",
      "진행 개수 : 4269, 남은 개수 : 360001\n",
      "진행 개수 : 6769, 남은 개수 : 355001\n",
      "진행 개수 : 9269, 남은 개수 : 350001\n",
      "진행 개수 : 11769, 남은 개수 : 345001\n",
      "진행 개수 : 14269, 남은 개수 : 340001\n",
      "진행 개수 : 16769, 남은 개수 : 335001\n",
      "진행 개수 : 19269, 남은 개수 : 330001\n",
      "진행 개수 : 21769, 남은 개수 : 325001\n",
      "진행 개수 : 24269, 남은 개수 : 320001\n"
     ]
    }
   ],
   "source": [
    "SUBSTITUTE_RATIO = 0.3\n",
    "substituted_inconsistent_data = pd.DataFrame(columns=['original_id', 'substituted_id', 'title', 'body'])\n",
    "while not inconsistent_data.empty:\n",
    "    counter = 0\n",
    "    target = inconsistent_data.sample() # source\n",
    "    candidate = inconsistent_data[inconsistent_data.iloc[:, 7:10].isin(target.iloc[0, 7:10].values).values].sample() # substituted resource\n",
    "    if target.send_date.values[0]==candidate.send_date.values[0]:\n",
    "        counter += 1\n",
    "        continue\n",
    "    target_sentences = sent_tokenize(target.body.values[0])\n",
    "    candidate_sentences = sent_tokenize(candidate.body.values[0])\n",
    "    leng_target_sentences = len(target_sentences)\n",
    "    leng_candidate_sentences = len(candidate_sentences)\n",
    "\n",
    "    if leng_target_sentences >= leng_candidate_sentences:\n",
    "        substituted_num = int(np.round(leng_target_sentences*SHUFFLE_RATIO))\n",
    "    else:\n",
    "        target, candidate = candidate, target\n",
    "        target_sentences, candidate_sentences = candidate_sentences, target_sentences\n",
    "        leng_target_sentences, leng_candidate_sentences = len(target_sentences), len(candidate_sentences)\n",
    "        substituted_num = int(np.round(len(target_sentences)*SHUFFLE_RATIO))\n",
    "    #shuffle\n",
    "    for sel_ind in sorted(random.sample(range(leng_target_sentences), substituted_num)):\n",
    "        try:\n",
    "            target_sentences[sel_ind] = candidate_sentences[int(np.ceil(sel_ind * leng_candidate_sentences / leng_target_sentences))]\n",
    "        except:\n",
    "            counter += 1\n",
    "            continue\n",
    "    \n",
    "    substituted_inconsistent_data = substituted_inconsistent_data.append({'original_id': target.id.values[0], 'substituted_id': candidate.id.values[0], 'title': target.title.values[0], 'body': target_sentences}, ignore_index=True)\n",
    "    \n",
    "    inconsistent_data = inconsistent_data.drop(index=[target.index[0], candidate.index[0]])\n",
    "    if len(inconsistent_data)%5000 < 2:\n",
    "        print(f'진행 개수(processed) : {len(substituted_inconsistent_data)}, 남은 개수(remained) : {len(inconsistent_data)}')\n",
    "    if len(inconsistent_data) < 100:\n",
    "        print('남은 개수(remained) : ', len(inconsistent_data))\n",
    "    if counter > 1000:\n",
    "        break"
   ]
  },
  {
   "cell_type": "code",
   "execution_count": null,
   "id": "3021ec1a",
   "metadata": {},
   "outputs": [],
   "source": []
  }
 ],
 "metadata": {
  "kernelspec": {
   "display_name": "fakenews",
   "language": "python",
   "name": "fakenews"
  },
  "language_info": {
   "codemirror_mode": {
    "name": "ipython",
    "version": 3
   },
   "file_extension": ".py",
   "mimetype": "text/x-python",
   "name": "python",
   "nbconvert_exporter": "python",
   "pygments_lexer": "ipython3",
   "version": "3.8.5"
  }
 },
 "nbformat": 4,
 "nbformat_minor": 5
}
